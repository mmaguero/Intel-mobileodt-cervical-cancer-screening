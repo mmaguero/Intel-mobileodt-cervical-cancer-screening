{
  "metadata": {
    "kernelspec": {
      "display_name": "Python 3",
      "language": "python",
      "name": "python3"
    },
    "language_info": {
      "codemirror_mode": {
        "name": "ipython",
        "version": 3
      },
      "file_extension": ".py",
      "mimetype": "text/x-python",
      "name": "python",
      "nbconvert_exporter": "python",
      "pygments_lexer": "ipython3",
      "version": "3.6.0"
    }
  },
  "nbformat": 4,
  "nbformat_minor": 0,
  "cells": [
    {
      "cell_type": "markdown",
      "source": "# Cervix EDA\n\nIn this competition we have a multi-class classification problem with **three** classes. We are asked, given an image, to identify the cervix type.\n\nFrom the data description:\n\n*In this competition, you will develop algorithms to correctly classify cervix types based on cervical images. These different types of cervix in our data set are all considered normal (not cancerous), but since the transformation zones aren't always visible, some of the patients require further testing while some don't. This decision is very important for the healthcare provider and critical for the patient. Identifying the transformation zones is not an easy task for the healthcare providers, therefore, an algorithm-aided decision will significantly improve the quality and efficiency of cervical cancer screening for these patients.*\n\nThe submission format is asking for a probability for each of the three different cervix types.\n\nIn this notebook we will be looking at:\n\n* basic dataset stats like number of samples per class, image sizes\n* different embeddings of RGB image space\n* pairwise distances and a clustermap of images in RGB space\n* (linear) model selection with basic multi class evaluation metrics.\n\n**If you like this kernel, please give an upvote, thanks! :)**",
      "metadata": {}
    },
    {
      "cell_type": "code",
      "source": "import numpy as np\nimport pandas as pd\nimport matplotlib.pyplot as plt\nimport seaborn as sns\nfrom skimage.io import imread, imshow\nimport cv2\n\n%matplotlib inline\nimport plotly.offline as py\npy.init_notebook_mode(connected=True)\nimport plotly.graph_objs as go\nimport plotly.tools as tls\n\nfrom subprocess import check_output\nprint(check_output([\"ls\", \"../input/train\"]).decode(\"utf8\"))",
      "execution_count": null,
      "outputs": [],
      "metadata": {}
    },
    {
      "cell_type": "markdown",
      "source": "We are given training images for each of cervix types. Lets first count them for each class.",
      "metadata": {}
    },
    {
      "cell_type": "code",
      "source": "from glob import glob\nbasepath = '../input/train/'\n\nall_cervix_images = []\n\nfor path in sorted(glob(basepath + \"*\")):\n    cervix_type = path.split(\"/\")[-1]\n    cervix_images = sorted(glob(basepath + cervix_type + \"/*\"))\n    all_cervix_images = all_cervix_images + cervix_images\n\nall_cervix_images = pd.DataFrame({'imagepath': all_cervix_images})\nall_cervix_images['filetype'] = all_cervix_images.apply(lambda row: row.imagepath.split(\".\")[-1], axis=1)\nall_cervix_images['type'] = all_cervix_images.apply(lambda row: row.imagepath.split(\"/\")[-2], axis=1)\nall_cervix_images.head()",
      "execution_count": null,
      "outputs": [],
      "metadata": {}
    },
    {
      "cell_type": "markdown",
      "source": "## Image types\n\nNow that we have the data in a handy dataframe we can do a few aggregations on the data. Let us first see how many images there are for each cervix type and which file types they have.\n\nAll files are in JPG format and Type 2 is the most common one with a little bit more than 50% in the training data in total, Type 1 on the other hand has a little bit less than 20% in the training data.",
      "metadata": {}
    },
    {
      "cell_type": "code",
      "source": "print('We have a total of {} images in the whole dataset'.format(all_cervix_images.shape[0]))\ntype_aggregation = all_cervix_images.groupby(['type', 'filetype']).agg('count')\ntype_aggregation_p = type_aggregation.apply(lambda row: 1.0*row['imagepath']/all_cervix_images.shape[0], axis=1)\n\nfig, axes = plt.subplots(nrows=2, ncols=1, figsize=(10, 8))\n\ntype_aggregation.plot.barh(ax=axes[0])\naxes[0].set_xlabel(\"image count\")\ntype_aggregation_p.plot.barh(ax=axes[1])\naxes[1].set_xlabel(\"training size fraction\")",
      "execution_count": null,
      "outputs": [],
      "metadata": {}
    },
    {
      "cell_type": "markdown",
      "source": "Now, lets read the files for each type to get an idea about how the images look like.\n\nThe images seem to vary alot in they formats, the first two samples have only a circular area with the actual image, the last sample has the image in a rectangle.",
      "metadata": {}
    },
    {
      "cell_type": "code",
      "source": "fig = plt.figure(figsize=(12,8))\n\ni = 1\nfor t in all_cervix_images['type'].unique():\n    ax = fig.add_subplot(1,3,i)\n    i+=1\n    f = all_cervix_images[all_cervix_images['type'] == t]['imagepath'].values[0]\n    plt.imshow(plt.imread(f))\n    plt.title('sample for cervix {}'.format(t))",
      "execution_count": null,
      "outputs": [],
      "metadata": {}
    },
    {
      "cell_type": "markdown",
      "source": "### Additional images",
      "metadata": {}
    },
    {
      "cell_type": "code",
      "source": "print(check_output([\"ls\", \"../input/additional\"]).decode(\"utf8\"))",
      "execution_count": null,
      "outputs": [],
      "metadata": {}
    },
    {
      "cell_type": "code",
      "source": "basepath = '../input/additional/'\n\nall_cervix_images_a = []\n\nfor path in sorted(glob(basepath + \"*\")):\n    cervix_type = path.split(\"/\")[-1]\n    cervix_images = sorted(glob(basepath + cervix_type + \"/*\"))\n    all_cervix_images_a = all_cervix_images_a + cervix_images\n\nall_cervix_images_a = pd.DataFrame({'imagepath': all_cervix_images_a})\nall_cervix_images_a['filetype'] = all_cervix_images_a.apply(lambda row: row.imagepath.split(\".\")[-1], axis=1)\nall_cervix_images_a['type'] = all_cervix_images_a.apply(lambda row: row.imagepath.split(\"/\")[-2], axis=1)\nall_cervix_images_a.head()",
      "execution_count": null,
      "outputs": [],
      "metadata": {}
    },
    {
      "cell_type": "code",
      "source": "print('We have a total of {} images in the whole dataset'.format(all_cervix_images_a.shape[0]))\ntype_aggregation = all_cervix_images_a.groupby(['type', 'filetype']).agg('count')\ntype_aggregation_p = type_aggregation.apply(lambda row: 1.0*row['imagepath']/all_cervix_images_a.shape[0], axis=1)\n\nfig, axes = plt.subplots(nrows=2, ncols=1, figsize=(10, 8))\n\ntype_aggregation.plot.barh(ax=axes[0])\naxes[0].set_xlabel(\"image count\")\ntype_aggregation_p.plot.barh(ax=axes[1])\naxes[1].set_xlabel(\"training size fraction\")",
      "execution_count": null,
      "outputs": [],
      "metadata": {}
    },
    {
      "cell_type": "code",
      "source": "fig = plt.figure(figsize=(12,8))\n\ni = 1\nfor t in all_cervix_images_a['type'].unique():\n    ax = fig.add_subplot(1,3,i)\n    i+=1\n    f = all_cervix_images_a[all_cervix_images_a['type'] == t]['imagepath'].values[0]\n    plt.imshow(plt.imread(f))\n    plt.title('sample for cervix {}'.format(t))",
      "execution_count": null,
      "outputs": [],
      "metadata": {}
    },
    {
      "cell_type": "markdown",
      "source": "### All images",
      "metadata": {}
    },
    {
      "cell_type": "code",
      "source": "all_cervix_images_ = pd.concat( [all_cervix_images, all_cervix_images_a], join='outer' )\n#all_cervix_images_ = all_cervix_images.append(all_cervix_images_a)\n#all_cervix_images_a.merge(all_cervix_images,how='left')\n\n#all_cervix_images_ = pd.DataFrame({'imagepath': all_cervix_images_})\n#all_cervix_images_['filetype'] = all_cervix_images_.apply(lambda row: row.imagepath.split(\".\")[-1], axis=1)\n#all_cervix_images_['type'] = all_cervix_images_.apply(lambda row: row.imagepath.split(\"/\")[-2], axis=1)\n#all_cervix_images_.head()\nprint(all_cervix_images_)",
      "execution_count": null,
      "outputs": [],
      "metadata": {}
    },
    {
      "cell_type": "code",
      "source": "print('We have a total of {} images in the whole dataset'.format(all_cervix_images_.shape[0]))\ntype_aggregation = all_cervix_images_.groupby(['type', 'filetype']).agg('count')\ntype_aggregation_p = type_aggregation.apply(lambda row: 1.0*row['imagepath']/all_cervix_images_a.shape[0], axis=1)\n\nfig, axes = plt.subplots(nrows=2, ncols=1, figsize=(10, 8))\n\ntype_aggregation.plot.barh(ax=axes[0])\naxes[0].set_xlabel(\"image count\")\ntype_aggregation_p.plot.barh(ax=axes[1])\naxes[1].set_xlabel(\"training size fraction\")",
      "execution_count": null,
      "outputs": [],
      "metadata": {}
    },
    {
      "cell_type": "code",
      "source": "fig = plt.figure(figsize=(12,8))\n\ni = 1\nfor t in all_cervix_images_['type'].unique():\n    ax = fig.add_subplot(1,3,i)\n    i+=1\n    f = all_cervix_images_[all_cervix_images_['type'] == t]['imagepath'].values[0]\n    plt.imshow(plt.imread(f))\n    plt.title('sample for cervix {}'.format(t))",
      "execution_count": null,
      "outputs": [],
      "metadata": {}
    }
  ]
}